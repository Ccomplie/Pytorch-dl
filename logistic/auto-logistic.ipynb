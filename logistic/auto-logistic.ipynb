{
 "cells": [
  {
   "cell_type": "code",
   "execution_count": 64,
   "metadata": {},
   "outputs": [],
   "source": [
    "import numpy as np\n",
    "import matplotlib.pyplot as plt \n",
    "import torch\n",
    "from torch import nn\n"
   ]
  },
  {
   "cell_type": "code",
   "execution_count": null,
   "metadata": {},
   "outputs": [],
   "source": [
    "# 生成数据\n",
    "n_data = torch.ones([50, 2])\n",
    "x1 = torch.normal(n_data*2, 1)\n",
    "y1 = torch.zeros([50,1])\n",
    "x2 = torch.normal(n_data*-2, 1)\n",
    "y2 = torch.ones([50,1])\n",
    "\n",
    "# 将两类样本合并\n",
    "x = torch.cat((x1, x2))\n",
    "y = torch.cat((y1, y2))"
   ]
  },
  {
   "cell_type": "code",
   "execution_count": null,
   "metadata": {},
   "outputs": [],
   "source": [
    "plt.scatter(x[:,0], x[:,1],c=y)"
   ]
  },
  {
   "cell_type": "code",
   "execution_count": null,
   "metadata": {},
   "outputs": [],
   "source": [
    "#使用带sigmod的交叉熵损失函数\n",
    "loss = nn.BCEWithLogitsLoss()\n",
    "\n",
    "class logsitics(nn.Module):\n",
    "    def __init__(self):\n",
    "        super(logsitics, self).__init__()\n",
    "        self.features = nn.Linear(2, 1)\n",
    "        #self.sigmoid = nn.Sigmoid()\n",
    "\n",
    "    def forward(self, X):\n",
    "        X = self.features(X)\n",
    "        #X = self.sigmoid(X)\n",
    "        return X\n",
    "    \n",
    "model = logsitics()\n",
    "opt = torch.optim.SGD(model.parameters(), lr=0.1)\n",
    "\n",
    "epoch = 100\n",
    "\n",
    "for i in range(epoch):\n",
    "    y_pre = model(x)\n",
    "    #print(y_pre)\n",
    "    l = loss(y_pre, y)\n",
    "    opt.zero_grad()\n",
    "    l.backward()\n",
    "    opt.step()\n",
    "    print(l)\n"
   ]
  }
 ],
 "metadata": {
  "kernelspec": {
   "display_name": "torch-gpu",
   "language": "python",
   "name": "python3"
  },
  "language_info": {
   "codemirror_mode": {
    "name": "ipython",
    "version": 3
   },
   "file_extension": ".py",
   "mimetype": "text/x-python",
   "name": "python",
   "nbconvert_exporter": "python",
   "pygments_lexer": "ipython3",
   "version": "3.12.5"
  }
 },
 "nbformat": 4,
 "nbformat_minor": 2
}
