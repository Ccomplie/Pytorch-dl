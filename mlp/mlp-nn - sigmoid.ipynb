{
 "cells": [
  {
   "cell_type": "code",
   "execution_count": 1,
   "metadata": {},
   "outputs": [],
   "source": [
    "import numpy as np\n",
    "import torch \n",
    "import time\n",
    "from torch import nn\n",
    "from torchvision import datasets, transforms,utils\n",
    "from PIL import Image\n",
    "import matplotlib.pyplot as plt\n",
    "import torch.optim as optim\n",
    "\n",
    "# 预先定义图像归一化方式，归一化后取值在[-1.0，1.0]\n",
    "transform = transforms.Compose([transforms.ToTensor(),\n",
    "                                transforms.Normalize(mean=[0.5],std=[0.5])])\n",
    "\n",
    "#加载数据\n",
    "train_dataset = datasets.FashionMNIST(root='./data', \n",
    "                                            train=True, \n",
    "                                            transform=transform, \n",
    "                                            download=True)  #是否从网络下载\n",
    "test_dataset = datasets.FashionMNIST(root='./data', \n",
    "                                            train=False, \n",
    "                                            transform=transform, \n",
    "                                            download=True)"
   ]
  },
  {
   "cell_type": "code",
   "execution_count": 2,
   "metadata": {},
   "outputs": [],
   "source": [
    "#批量数128，随机乱序\n",
    "batch_size = 128\n",
    "shuffle = True\n",
    "#采用小批量方式加载数据\n",
    "train_loader = torch.utils.data.DataLoader(dataset=train_dataset, \n",
    "                                            batch_size=batch_size, \n",
    "                                            shuffle=True, # 装载过程中随机乱序\n",
    "                                            num_workers=1) \n",
    "test_loader = torch.utils.data.DataLoader(dataset=test_dataset, \n",
    "                                            batch_size=batch_size, \n",
    "                                            shuffle=False,\n",
    "                                            num_workers=1) "
   ]
  },
  {
   "cell_type": "code",
   "execution_count": 3,
   "metadata": {},
   "outputs": [],
   "source": [
    "# 定义模型网络结构超参数，输入28*28， 隐藏层256，输出层10\n",
    "num_inputs = 28*28\n",
    "num_hidens = 256\n",
    "num_outputs = 10\n",
    "\n",
    "\n",
    "#交叉熵损失函数，包含softmax\n",
    "loss = nn.CrossEntropyLoss()\n",
    "#使用Sequential类定义模型结构\n",
    "net = nn.Sequential(\n",
    "    nn.Flatten(),\n",
    "    nn.Linear(num_inputs, num_hidens),\n",
    "    nn.Sigmoid(),\n",
    "    nn.Linear(num_hidens, num_outputs)\n",
    ")\n",
    "\n",
    "for param in net.parameters():\n",
    "    nn.init.normal_(param, mean=0, std=0.01)\n"
   ]
  },
  {
   "cell_type": "code",
   "execution_count": 4,
   "metadata": {},
   "outputs": [],
   "source": [
    "def evaluate_acc(data_iter, net, loss):\n",
    "    acc_count, n = 0, 0\n",
    "    with torch.no_grad():\n",
    "        loss_sum = 0\n",
    "        for x, y in data_iter:\n",
    "            y_hat = net(x)\n",
    "            loss_sum += loss(y_hat, y)\n",
    "            acc_count += acc(y_hat, y)\n",
    "            n += y.size(0)\n",
    "    return acc_count/n, loss_sum\n",
    "\n",
    "def acc(y_hat, y):\n",
    "    _, pre_labels = torch.max(y_hat, dim=1) # 将每个预测结果中最大输出的索引作为分类标签，pre_labels为小批量中每个样本预测结果的向量\n",
    "    acc_count = (pre_labels == y).sum().item()\n",
    "    return acc_count"
   ]
  },
  {
   "cell_type": "code",
   "execution_count": 5,
   "metadata": {},
   "outputs": [
    {
     "name": "stdout",
     "output_type": "stream",
     "text": [
      "epoch: 1, loss: 616.4826, train_acc: 0.5759, test_acc: 0.7228\n",
      "epoch: 2, loss: 327.9970, train_acc: 0.7498, test_acc: 0.7643\n",
      "epoch: 3, loss: 278.9053, train_acc: 0.7847, test_acc: 0.7881\n",
      "epoch: 4, loss: 253.1229, train_acc: 0.8083, test_acc: 0.8048\n",
      "epoch: 5, loss: 237.2952, train_acc: 0.8218, test_acc: 0.8146\n",
      "epoch: 6, loss: 226.5966, train_acc: 0.8292, test_acc: 0.8163\n",
      "epoch: 7, loss: 218.9003, train_acc: 0.8361, test_acc: 0.8251\n",
      "epoch: 8, loss: 212.7350, train_acc: 0.8402, test_acc: 0.8273\n",
      "epoch: 9, loss: 207.7027, train_acc: 0.8444, test_acc: 0.8305\n",
      "epoch: 10, loss: 203.1896, train_acc: 0.8482, test_acc: 0.8339\n"
     ]
    }
   ],
   "source": [
    "#定义学习率\n",
    "lr = 0.05\n",
    "epoch = 10\n",
    "opt = optim.SGD(net.parameters(), lr)\n",
    "\n",
    "def train(net, train_iter, test_iter, num_epoch, opt, loss):\n",
    "    train_acc_list, test_acc_list, train_loss_list, test_loss_list = [], [], [], []\n",
    "    for epoch in range(num_epoch):\n",
    "        train_acc_sum, train_loss_sum, n, =0, 0, 0\n",
    "        for x, y in train_iter:\n",
    "            opt.zero_grad()\n",
    "            y_hat = net(x)\n",
    "            l = loss(y_hat, y).sum()\n",
    "            l.backward()\n",
    "            opt.step()\n",
    "            train_loss_sum += l.item()\n",
    "            train_acc_sum += acc(y_hat, y)\n",
    "            n += y.size(0)\n",
    "        test_acc, test_loss = evaluate_acc(test_iter, net, loss)\n",
    "        train_acc = train_acc_sum/n\n",
    "        train_acc_list.append(train_acc)\n",
    "        test_acc_list.append(test_acc)\n",
    "        train_loss_list.append(train_loss_sum)\n",
    "        test_loss_list.append(test_loss)\n",
    "        print(f\"epoch: {epoch+1}, loss: {train_loss_sum:.4f}, train_acc: {train_acc:.4f}, test_acc: {test_acc:.4f}\")   \n",
    "    return  train_acc_list, test_acc_list, train_loss_list, test_loss_list\n",
    "train_acc_list, test_acc_list, train_loss_list, test_loss_list = train(net, train_loader, test_loader, epoch, opt, loss)         "
   ]
  },
  {
   "cell_type": "code",
   "execution_count": null,
   "metadata": {},
   "outputs": [],
   "source": []
  }
 ],
 "metadata": {
  "kernelspec": {
   "display_name": "torch-gpu",
   "language": "python",
   "name": "python3"
  },
  "language_info": {
   "codemirror_mode": {
    "name": "ipython",
    "version": 3
   },
   "file_extension": ".py",
   "mimetype": "text/x-python",
   "name": "python",
   "nbconvert_exporter": "python",
   "pygments_lexer": "ipython3",
   "version": "3.12.5"
  }
 },
 "nbformat": 4,
 "nbformat_minor": 2
}
